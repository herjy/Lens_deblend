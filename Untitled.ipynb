{
 "cells": [
  {
   "cell_type": "code",
   "execution_count": null,
   "metadata": {},
   "outputs": [],
   "source": [
    "import scarlet\n",
    "import matplotlib.pyplot as plt\n",
    "import numpy as np\n"
   ]
  },
  {
   "cell_type": "code",
   "execution_count": null,
   "metadata": {},
   "outputs": [],
   "source": [
    "gal = scarlet.GaussianPSF(sigma = [[5.,5.]], boxsize=101).get_model()\n",
    "psf = scarlet.GaussianPSF(sigma = [[1., 1.]], boxsize=31).get_model()\n",
    "psf = psf/np.max(psf)\n",
    "gal /= np.max(gal)\n",
    "\n",
    "scene = scarlet.fft.convolve(gal, psf, return_Fourier=False)\n",
    "\n",
    "scene+=np.random.randn(1, 101, 101)*1.e-3\n",
    "plt.imshow(scene[0])\n",
    "plt.colorbar()\n",
    "plt.show()"
   ]
  },
  {
   "cell_type": "code",
   "execution_count": null,
   "metadata": {},
   "outputs": [],
   "source": [
    "frame = scarlet.Frame((1,101,101), psf=scarlet.GaussianPSF(sigma = [[0.5, 0.5]]), channels=['r'])\n",
    "observation=scarlet.Observation(scene, psf = scarlet.ImagePSF(psf), channels=['r'])\n",
    "observation.match(frame)"
   ]
  },
  {
   "cell_type": "code",
   "execution_count": null,
   "metadata": {},
   "outputs": [],
   "source": [
    "\n",
    "source = [scarlet.SingleExtendedSource(frame,sky_coord=(50,50), observations=observation, boxsize=91)]"
   ]
  },
  {
   "cell_type": "code",
   "execution_count": null,
   "metadata": {},
   "outputs": [],
   "source": [
    "plt.imshow((source[0].get_model()[0]), vmin = 0, cmap = 'gist_stern')\n",
    "plt.colorbar()\n",
    "plt.show()\n",
    "blend = scarlet.Blend(source, observation)\n"
   ]
  },
  {
   "cell_type": "code",
   "execution_count": null,
   "metadata": {
    "scrolled": false
   },
   "outputs": [],
   "source": [
    "for i in range(50):\n",
    "    blend.fit(5)\n",
    "    scarlet.display.show_scene(source, \n",
    "                   observation = observation,\n",
    "                   show_rendered=True, \n",
    "                   show_observed=True, \n",
    "                   show_residual=True)\n",
    "    plt.show()\n",
    "    plt.imshow((source[0].get_model()[0]), cmap = 'gist_stern')\n",
    "    plt.colorbar()\n",
    "    plt.show()\n",
    "    \n",
    "plt.plot(blend.loss)\n",
    "plt.xlabel('Iteration')\n",
    "plt.ylabel('log-Likelihood')\n",
    "plt.show()\n",
    "    \n",
    "    "
   ]
  },
  {
   "cell_type": "code",
   "execution_count": null,
   "metadata": {},
   "outputs": [],
   "source": []
  },
  {
   "cell_type": "code",
   "execution_count": null,
   "metadata": {},
   "outputs": [],
   "source": []
  }
 ],
 "metadata": {
  "kernelspec": {
   "display_name": "nlp",
   "language": "python",
   "name": "nlp"
  },
  "language_info": {
   "codemirror_mode": {
    "name": "ipython",
    "version": 3
   },
   "file_extension": ".py",
   "mimetype": "text/x-python",
   "name": "python",
   "nbconvert_exporter": "python",
   "pygments_lexer": "ipython3",
   "version": "3.8.5"
  }
 },
 "nbformat": 4,
 "nbformat_minor": 4
}
